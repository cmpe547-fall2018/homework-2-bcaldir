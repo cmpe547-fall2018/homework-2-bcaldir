{
 "cells": [
  {
   "cell_type": "markdown",
   "metadata": {},
   "source": [
    "Name: Bedirhan Caldir\n",
    "\n",
    "I hereby declare that I observed the honour code of the university when preparing the homework."
   ]
  },
  {
   "cell_type": "markdown",
   "metadata": {},
   "source": [
    "## Pr?gr?mm?ng?H?m?w?rk\n",
    "\n",
    "In this exercise we model a string of text using a Markov(1) model. For simplicity we only consider letters 'a-z'. Capital letters 'A-Z' are mapped to the corresponding ones. All remaining letters, symbols, numbers, including spaces, are denoted by '.'.\n",
    "\n",
    "\n",
    "We have a probability table $T$ where $T_{i,j} = p(x_t = j | x_{t-1} = i)$  transition model of letters in English text for $t=1,2 \\dots N$. Assume that the initial letter in a string is always a space denoted as $x_0 = \\text{'.'}$. Such a model where the probability table is always the same is sometimes called a stationary model.\n",
    "\n",
    "1. For a given $N$, write a program to sample random strings with letters $x_1, x_2, \\dots, x_N$ from $p(x_{1:N}|x_0)$\n",
    "1. Now suppose you are given strings with missing letters, where each missing letter is denoted by a question mark (or underscore, as below). Implement a method, that samples missing letters conditioned on observed ones, i.e., samples from $p(x_{-\\alpha}|x_{\\alpha})$ where $\\alpha$ denotes indices of observed letters. For example, if the input is 't??.', we have $N=4$ and\n",
    "$x_1 = \\text{'t'}$ and $x_4 = \\text{'.'}$, $\\alpha=\\{1,4\\}$ and $-\\alpha=\\{2,3\\}$. Your program may possibly generate the strings 'the.', 'twi.', 'tee.', etc. Hint: make sure to make use all data given and sample from the correct distribution. Implement the method and print the results for the test strings below. \n",
    "1. Describe a method for filling in the gaps by estimating the most likely letter for each position. Hint: you need to compute\n",
    "$$\n",
    "x_{-\\alpha}^* = \\arg\\max_{x_{-\\alpha}} p(x_{-\\alpha}|x_{\\alpha})\n",
    "$$\n",
    "Implement the method and print the results for the following test strings along with the log-probability  $\\log p(x_{-\\alpha}^*,x_{\\alpha})$.\n",
    "1. Discuss how you can improve the model to get better estimations."
   ]
  },
  {
   "cell_type": "code",
   "execution_count": 1,
   "metadata": {},
   "outputs": [],
   "source": [
    "test_strings = ['th__br__n.f_x.', '_u_st__n_.to_be._nsw_r__','i__at_._a_h_n_._e_r_i_g','q___t.___z._____t.__.___.__.']"
   ]
  },
  {
   "cell_type": "markdown",
   "metadata": {},
   "source": [
    "Hint: The code below loads a table of transition probabilities for English text."
   ]
  },
  {
   "cell_type": "code",
   "execution_count": 2,
   "metadata": {
    "scrolled": true
   },
   "outputs": [
    {
     "name": "stdout",
     "output_type": "stream",
     "text": [
      "Example\n"
     ]
    },
    {
     "data": {
      "text/latex": [
       "$p(x_t = \\text{'u'} | x_{t-1} = \\text{'q'})$"
      ],
      "text/plain": [
       "<IPython.core.display.Latex object>"
      ]
     },
     "metadata": {},
     "output_type": "display_data"
    },
    {
     "name": "stdout",
     "output_type": "stream",
     "text": [
      "0.9949749\n"
     ]
    },
    {
     "data": {
      "text/latex": [
       "$p(x_t | x_{t-1} = \\text{'a'})$"
      ],
      "text/plain": [
       "<IPython.core.display.Latex object>"
      ]
     },
     "metadata": {},
     "output_type": "display_data"
    },
    {
     "name": "stdout",
     "output_type": "stream",
     "text": [
      "a 0.0002835\n",
      "b 0.0228302\n",
      "c 0.0369041\n",
      "d 0.0426290\n",
      "e 0.0012216\n",
      "f 0.0075739\n",
      "g 0.0171385\n",
      "h 0.0014659\n",
      "i 0.0372661\n",
      "j 0.0002353\n",
      "k 0.0110124\n",
      "l 0.0778259\n",
      "m 0.0260757\n",
      "n 0.2145354\n",
      "o 0.0005459\n",
      "p 0.0195213\n",
      "q 0.0001749\n",
      "r 0.1104770\n",
      "s 0.0934290\n",
      "t 0.1317960\n",
      "u 0.0098029\n",
      "v 0.0306574\n",
      "w 0.0088799\n",
      "x 0.0009562\n",
      "y 0.0233701\n",
      "z 0.0018701\n",
      ". 0.0715219\n"
     ]
    }
   ],
   "source": [
    "import csv\n",
    "from IPython.display import display, Latex\n",
    "\n",
    "alphabet = [chr(i+ord('a')) for i in range(26)]\n",
    "alphabet.append('.')\n",
    "letter2idx = {c:i for i,c in enumerate(alphabet)}\n",
    "\n",
    "T = []\n",
    "with open('transitions.csv') as csvfile:\n",
    "    reader = csv.reader(csvfile, delimiter=',')\n",
    "    for row in reader:\n",
    "        T.append(row)\n",
    "\n",
    "print('Example')\n",
    "## p(x_t = 'u' | x_{t-1} = 'q')\n",
    "display(Latex(r\"$p(x_t = \\text{'u'} | x_{t-1} = \\text{'q'})$\"))\n",
    "print(T[letter2idx['q']][letter2idx['u']])\n",
    "display(Latex(r\"$p(x_t | x_{t-1} = \\text{'a'})$\"))\n",
    "for c,p in zip(alphabet,T[letter2idx['a']]):\n",
    "    print(c,p)"
   ]
  },
  {
   "cell_type": "markdown",
   "metadata": {},
   "source": [
    "#### 1 - Sampling random strings"
   ]
  },
  {
   "cell_type": "code",
   "execution_count": 3,
   "metadata": {},
   "outputs": [
    {
     "name": "stdout",
     "output_type": "stream",
     "text": [
      "For N=11 -> of.wonconda\n",
      "For N=14 -> se..alened.fin\n",
      "For N=11 -> ath.pire.ck\n",
      "For N=13 -> .shentheaimex\n",
      "For N=19 -> s.cromo.whe.wa.cawh\n",
      "For N=16 -> vict.tunt.t.al.a\n",
      "For N=15 -> y.eve.e.sthend.\n",
      "For N=15 -> s.mitaveed.bawn\n",
      "For N=11 -> sps.ir..st.\n",
      "For N=16 -> .oul.win.sest.ty\n"
     ]
    }
   ],
   "source": [
    "import numpy as np\n",
    "\n",
    "def generate_random_string(N):\n",
    "    string = '.' # initialized with '.' since it represents string beginning (will be omited at the end)\n",
    "    for i in range(N):\n",
    "        probs = np.array(list(map(float, T[letter2idx[string[-1]]])))\n",
    "        string += alphabet[np.random.choice(len(alphabet), p=probs/np.sum(probs))]\n",
    "    return string[1:]\n",
    "\n",
    "for i in range(10):\n",
    "    N = np.random.randint(10, 20)\n",
    "    print('For N={} ->'.format(N), generate_random_string(N))"
   ]
  },
  {
   "cell_type": "markdown",
   "metadata": {},
   "source": [
    "#### 2 - Missing letter inference"
   ]
  },
  {
   "cell_type": "code",
   "execution_count": 4,
   "metadata": {},
   "outputs": [
    {
     "name": "stdout",
     "output_type": "stream",
     "text": [
      "Random letter inferences:\n",
      "th__br__n.f_x. -> thosbr.cn.f.x.\n",
      "_u_st__n_.to_be._nsw_r__ -> tucsthind.towbe.mnswar.t\n",
      "i__at_._a_h_n_._e_r_i_g -> icoati.havhant.se.riisg\n",
      "q___t.___z._____t.__.___.__. -> qulyt.on.z.alfert.ro.hon.ce.\n"
     ]
    }
   ],
   "source": [
    "# Since HMM assumes that a state only depends on its previous state, \n",
    "# an unknown letter will be using its previous letter..\n",
    "\n",
    "def infer_missing_letters(string, missing_indicator='_', nonletter_indicator='.'):\n",
    "    result = '.'\n",
    "    for letter in string:\n",
    "        letter = letter.lower()\n",
    "        if letter == missing_indicator:\n",
    "            probs = np.array(list(map(float, T[letter2idx[result[-1]]])))\n",
    "            result += alphabet[np.random.choice(len(alphabet), p=probs/np.sum(probs))]\n",
    "        else:\n",
    "            result += letter\n",
    "    return result[1:]\n",
    "\n",
    "print('Random letter inferences:')\n",
    "for string in test_strings:\n",
    "    inferred = infer_missing_letters(string)\n",
    "    print(string, '->', inferred)"
   ]
  },
  {
   "cell_type": "markdown",
   "metadata": {},
   "source": [
    "#### 3 - Missing letter inference with most likely letter"
   ]
  },
  {
   "cell_type": "code",
   "execution_count": 5,
   "metadata": {},
   "outputs": [
    {
     "name": "stdout",
     "output_type": "stream",
     "text": [
      "The most likely letter inferences:\n",
      "th__br__n.f_x. -> the.bre.n.f.x. with log-joint of -52.35832852820339\n",
      "_u_st__n_.to_be._nsw_r__ -> tursthen..tonbe.tnswhre. with log-joint of -97.29483466250414\n",
      "i__at_._a_h_n_._e_r_i_g -> in.ath.tanhen..te.reing with log-joint of -75.00721203404348\n",
      "q___t.___z._____t.__.___.__. -> quret.thez.the.tt.th.the.th. with log-joint of -98.11639027301912\n"
     ]
    }
   ],
   "source": [
    "def infer_missing_letters_with_argmax(string, missing_indicator='_', nonletter_indicator='.'):\n",
    "    result = '.'\n",
    "    p = 0\n",
    "    for letter in string:\n",
    "        letter = letter.lower()\n",
    "        if letter == missing_indicator:\n",
    "            probs = np.array(list(map(float, T[letter2idx[result[-1]]])))\n",
    "            result += alphabet[np.argmax(probs)]\n",
    "        else:\n",
    "            result += letter\n",
    "        p += np.log(float(T[letter2idx[result[-1]]][letter2idx[result[-2]]]))\n",
    "    return result[1:], p\n",
    "\n",
    "print('The most likely letter inferences:')\n",
    "for string in test_strings:\n",
    "    inferred, p = infer_missing_letters_with_argmax(string)\n",
    "    print(string, '->', inferred, 'with log-joint of', p)"
   ]
  },
  {
   "cell_type": "markdown",
   "metadata": {},
   "source": [
    "#### 4 - How to improve the model"
   ]
  },
  {
   "cell_type": "markdown",
   "metadata": {},
   "source": [
    "The model is assuming that a letter only depends on the previous letter, which makes the model skip the other letters to infer a letter. This dependence can be increased to take more letters into account which makes the inference process skip less letter and capture the language model better."
   ]
  }
 ],
 "metadata": {
  "kernelspec": {
   "display_name": "Python 3",
   "language": "python",
   "name": "python3"
  },
  "language_info": {
   "codemirror_mode": {
    "name": "ipython",
    "version": 3
   },
   "file_extension": ".py",
   "mimetype": "text/x-python",
   "name": "python",
   "nbconvert_exporter": "python",
   "pygments_lexer": "ipython3",
   "version": "3.7.0"
  }
 },
 "nbformat": 4,
 "nbformat_minor": 1
}
